{
 "cells": [
  {
   "attachments": {},
   "cell_type": "markdown",
   "metadata": {},
   "source": [
    "Lists"
   ]
  },
  {
   "cell_type": "code",
   "execution_count": null,
   "metadata": {},
   "outputs": [],
   "source": [
    "cats = [\"Mingyu\", \"Ash\", 1, True]\n",
    "\n",
    "print(\"Mingyu\" in cats)\n",
    "print(\"Borak\" in cats)\n",
    "print(cats[2])\n",
    "print(cats[0], end=\"\\n\\n\")\n",
    "\n",
    "cats[2] = \"Kuro\"\n",
    "print(cats[2])\n",
    "\n",
    "print(cats[1:3])\n",
    "print(cats[:],end=\"\\n\\n\")\n",
    "\n",
    "cats.append(\"Miming\")\n",
    "print(cats)\n",
    "cats.extend([\"A-2\", \"Kado\"])\n",
    "print(cats)\n",
    "cats += [\"2-A\", \"Melchy\", \"Lorana\"]\n",
    "print(cats)\n",
    "cats.remove(\"Lorana\")\n",
    "print(cats, end=\"\\n\\n\")\n",
    "\n",
    "#pop removes the last item on the list\n",
    "print(cats.pop())\n",
    "print(cats)\n"
   ]
  },
  {
   "cell_type": "code",
   "execution_count": null,
   "metadata": {},
   "outputs": [],
   "source": [
    "items = [\"Apple\", \"Orange\", \"Banana\", \"Pineapple\"]\n",
    "\n",
    "items.insert(4, \"Mango\")\n",
    "print(items)\n",
    "\n",
    "items[1:1] = [\"Grapes\", \"Jackfruit\"]\n",
    "print(items)\n",
    "items.sort()\n",
    "#items.sort(key = str.lower) sorts lowercase letters normally\n",
    "print(items, end=\"\\n\\n\")\n",
    "\n",
    "#copying lists\n",
    "itemscopy = items[:]\n",
    "print(itemscopy)"
   ]
  },
  {
   "attachments": {},
   "cell_type": "markdown",
   "metadata": {},
   "source": [
    "Tuples"
   ]
  },
  {
   "cell_type": "code",
   "execution_count": null,
   "metadata": {},
   "outputs": [],
   "source": [
    "names = (\"Dan\", \"Greg\", \"Aaron\")\n",
    "\n",
    "print(names[0])\n",
    "names.index(\"Dan\")\n",
    "len(names)\n",
    "\n",
    "print(\"Greg\" in names)\n",
    "\n",
    "print(sorted(names))\n",
    "print(names)\n",
    "newTuple = names + (\"Josh\", \"Emman\")\n",
    "print(newTuple)\n",
    "\n",
    "#Remember that you cannot modify the contents of a tuple."
   ]
  },
  {
   "attachments": {},
   "cell_type": "markdown",
   "metadata": {},
   "source": [
    "Dictionaries"
   ]
  },
  {
   "cell_type": "code",
   "execution_count": 54,
   "metadata": {},
   "outputs": [
    {
     "name": "stdout",
     "output_type": "stream",
     "text": [
      "Roger\n",
      "Lorana\n",
      "Brown\n",
      "Cream\n",
      "\n",
      "('color', 'Cream')\n",
      "{'name': 'Alora', 'age': 2}\n",
      "False\n",
      "True\n",
      "['name', 'age']\n",
      "['Alora', 2]\n",
      "[('name', 'Alora'), ('age', 2)]\n",
      "dict_items([('name', 'Alora'), ('age', 2)])\n",
      "2\n",
      "\n",
      "{'name': 'Alora', 'age': 2, 'favorite food': 'Meat'}\n",
      "{'name': 'Alora', 'favorite food': 'Meat'}\n",
      "{'name': 'Alora', 'favorite food': 'Meat'}\n"
     ]
    }
   ],
   "source": [
    "dog1 = {\"name\": \"Roger\", \"age\":1}\n",
    "dog2 = {\"name\": \"Alora\", \"age\":2, \"color\":\"Cream\"}\n",
    "\n",
    "print(dog1[\"name\"])\n",
    "\n",
    "dog1[\"name\"] = \"Lorana\"\n",
    "print(dog1.get(\"name\"))\n",
    "print(dog1.get(\"color\", \"Brown\"))\n",
    "print(dog2.get(\"color\", \"Orange\"),end=\"\\n\\n\")\n",
    "\n",
    "print(dog2.popitem())\n",
    "print(dog2)\n",
    "print(\"color\" in dog2)\n",
    "print(\"name\" in dog2)\n",
    "print(list(dog2.keys()))\n",
    "print(list(dog2.values()))\n",
    "print(list(dog2.items()))\n",
    "print(dog2.items())\n",
    "print(len(dog1), end=\"\\n\\n\")\n",
    "\n",
    "dog2[\"favorite food\"] = \"Meat\"\n",
    "print(dog2)\n",
    "del dog2[\"age\"]\n",
    "print(dog2)\n",
    "dogcopy = dog2.copy()\n",
    "print(dogcopy)\n"
   ]
  }
 ],
 "metadata": {
  "kernelspec": {
   "display_name": "Python 3",
   "language": "python",
   "name": "python3"
  },
  "language_info": {
   "codemirror_mode": {
    "name": "ipython",
    "version": 3
   },
   "file_extension": ".py",
   "mimetype": "text/x-python",
   "name": "python",
   "nbconvert_exporter": "python",
   "pygments_lexer": "ipython3",
   "version": "3.11.2"
  },
  "orig_nbformat": 4,
  "vscode": {
   "interpreter": {
    "hash": "d0734580365e9e2d4d482446ecd95ab3f91430a3762eb89ec906a4725e8a22f7"
   }
  }
 },
 "nbformat": 4,
 "nbformat_minor": 2
}
