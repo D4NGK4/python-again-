{
 "cells": [
  {
   "attachments": {},
   "cell_type": "markdown",
   "metadata": {},
   "source": [
    "Lists"
   ]
  },
  {
   "cell_type": "code",
   "execution_count": 3,
   "metadata": {},
   "outputs": [
    {
     "name": "stdout",
     "output_type": "stream",
     "text": [
      "True\n",
      "False\n",
      "Mingyu\n",
      "Kuro\n"
     ]
    }
   ],
   "source": [
    "cats = [\"Mingyu\", \"Ash\", 1, True]\n",
    "\n",
    "print(\"Mingyu\" in cats)\n",
    "print(\"Borak\" in cats)\n",
    "print(cats[0], end=\"\\n\\n\")\n",
    "\n",
    "cats[2] = \"Kuro\"\n",
    "print(cats[2])"
   ]
  }
 ],
 "metadata": {
  "kernelspec": {
   "display_name": "Python 3",
   "language": "python",
   "name": "python3"
  },
  "language_info": {
   "codemirror_mode": {
    "name": "ipython",
    "version": 3
   },
   "file_extension": ".py",
   "mimetype": "text/x-python",
   "name": "python",
   "nbconvert_exporter": "python",
   "pygments_lexer": "ipython3",
   "version": "3.11.2"
  },
  "orig_nbformat": 4,
  "vscode": {
   "interpreter": {
    "hash": "d0734580365e9e2d4d482446ecd95ab3f91430a3762eb89ec906a4725e8a22f7"
   }
  }
 },
 "nbformat": 4,
 "nbformat_minor": 2
}
