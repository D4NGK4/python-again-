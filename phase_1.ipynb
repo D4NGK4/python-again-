{
 "cells": [
  {
   "cell_type": "code",
   "execution_count": null,
   "metadata": {},
   "outputs": [],
   "source": [
    "import random"
   ]
  },
  {
   "cell_type": "code",
   "execution_count": null,
   "metadata": {},
   "outputs": [],
   "source": [
    "#from freeCodeCamp.org\n",
    "#rock-paper-scissors game\n",
    "\n",
    "def get_choices():\n",
    "    player_choice = input(\"Enter choice (rock, paper, scissors): \")\n",
    "    options = [\"rock\", \"paper\", \"scissors\"]\n",
    "    computer_choice = random.choice(options)\n",
    "\n",
    "    choices = {\"player\":player_choice, \"computer\":computer_choice }\n",
    "\n",
    "    return choices"
   ]
  },
  {
   "cell_type": "code",
   "execution_count": null,
   "metadata": {},
   "outputs": [],
   "source": [
    "def check_winner(player, comp):\n",
    "    print(f\"You chose {player}, Computer chose {comp}\")\n",
    "    if player == comp:\n",
    "        return \"It's a tie\" \n",
    "    elif player == \"rock\" :\n",
    "        if comp == \"scissors\":\n",
    "            return \"You Win!\"\n",
    "        else:\n",
    "            return \"You Lose\"\n",
    "\n",
    "    elif player == \"paper\" :\n",
    "        if comp == \"rock\":\n",
    "            return \"You Win!\"\n",
    "        else:\n",
    "            return \"You Lose\"\n",
    "\n",
    "    elif player == \"scissors\" :\n",
    "        if comp == \"paper\":\n",
    "            return \"You Win!\"\n",
    "        else:\n",
    "            return \"You Lose\""
   ]
  },
  {
   "cell_type": "code",
   "execution_count": null,
   "metadata": {},
   "outputs": [],
   "source": [
    "def greeting():\n",
    "    return \"hello\""
   ]
  },
  {
   "cell_type": "code",
   "execution_count": 53,
   "metadata": {},
   "outputs": [],
   "source": [
    "choices = get_choices()\n",
    "result = check_winner(choices[\"player\"], choices[\"computer\"])\n",
    "print(result)"
   ]
  }
 ],
 "metadata": {
  "kernelspec": {
   "display_name": "Python 3",
   "language": "python",
   "name": "python3"
  },
  "language_info": {
   "codemirror_mode": {
    "name": "ipython",
    "version": 3
   },
   "file_extension": ".py",
   "mimetype": "text/x-python",
   "name": "python",
   "nbconvert_exporter": "python",
   "pygments_lexer": "ipython3",
   "version": "3.11.2"
  },
  "orig_nbformat": 4,
  "vscode": {
   "interpreter": {
    "hash": "d0734580365e9e2d4d482446ecd95ab3f91430a3762eb89ec906a4725e8a22f7"
   }
  }
 },
 "nbformat": 4,
 "nbformat_minor": 2
}
