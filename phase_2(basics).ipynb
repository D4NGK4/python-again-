{
 "cells": [
  {
   "attachments": {},
   "cell_type": "markdown",
   "metadata": {},
   "source": [
    "Based from freeCodeCamp.org\n",
    "\n",
    "In this notebook, you will learn all about the basics of the Python Programming Language. "
   ]
  },
  {
   "attachments": {},
   "cell_type": "markdown",
   "metadata": {},
   "source": [
    "Let's start with creating variables."
   ]
  },
  {
   "cell_type": "code",
   "execution_count": null,
   "metadata": {},
   "outputs": [],
   "source": [
    "# We'll make 3 variables called name, age, as well as address and store data within each of them.\n",
    "\n",
    "name = \"Dan\"\n",
    "age = 21\n",
    "address = \"Jimenez\""
   ]
  },
  {
   "attachments": {},
   "cell_type": "markdown",
   "metadata": {},
   "source": [
    "Data Types"
   ]
  },
  {
   "cell_type": "code",
   "execution_count": null,
   "metadata": {},
   "outputs": [],
   "source": [
    "#Data types are important in all aspects of programming.\n",
    "#Here are a few data types you will encounter in python.\n",
    "\n",
    "string = \"string\"\n",
    "integer = 21\n",
    "boolean = True\n",
    "\n",
    "\n",
    "list = []\n",
    "tuple = ()\n",
    "dictionary = {1:\"Cat\", 2:\"Dog\"}\n",
    "set = set()"
   ]
  },
  {
   "attachments": {},
   "cell_type": "markdown",
   "metadata": {},
   "source": [
    "Printing variables"
   ]
  },
  {
   "cell_type": "code",
   "execution_count": null,
   "metadata": {},
   "outputs": [],
   "source": [
    "#Printing in python is as easy as typing print, because that's all you have to do.\n",
    "\n",
    "print(name)\n",
    "print(str(age) + \" \" +address)\n",
    "\n",
    "#you can also use the f string \n",
    "print(f\"{age} {address}, same thing\")"
   ]
  },
  {
   "attachments": {},
   "cell_type": "markdown",
   "metadata": {},
   "source": [
    "/Indentation/ is important in Python.\n",
    "\n",
    "You can indent a line of code by using [tab].\n",
    "\n",
    "person = \"Dan\"\n",
    "\n",
    "> person2 = \"Greg\"\n",
    "\n",
    "'person2' will give out an error if you run the following code.\n",
    "\n",
    "Everything indented belongs to a block. A block is usually a function."
   ]
  },
  {
   "attachments": {},
   "cell_type": "markdown",
   "metadata": {},
   "source": [
    "CASTING"
   ]
  },
  {
   "cell_type": "code",
   "execution_count": null,
   "metadata": {},
   "outputs": [],
   "source": [
    "#Casting converts datatypes into other datatypes \n",
    "\n",
    "number = \"88\"\n",
    "print(int(number))\n",
    "number2 = 100\n",
    "print(str(number2))\n",
    "\n",
    "#the variable 'number' with the string 88 will be converted into a number in the print function,\n",
    "#and the variable 'number2' with the integer 100 will be converted into a string."
   ]
  },
  {
   "attachments": {},
   "cell_type": "markdown",
   "metadata": {},
   "source": [
    "Operators"
   ]
  },
  {
   "attachments": {},
   "cell_type": "markdown",
   "metadata": {},
   "source": [
    "Then, we have operators. There are multiple types of operators but let's just focus on the arithmetic operators first."
   ]
  },
  {
   "cell_type": "code",
   "execution_count": null,
   "metadata": {},
   "outputs": [],
   "source": [
    "print(1 + 1)#addition\n",
    "print(6 - 9)#subtraction\n",
    "print(3 * 3)#multiplication\n",
    "print(5 / 5)#division\n",
    "print(2 % 3) #prints the remainder\n",
    "print(4 ** 2) #exponents\n",
    "print(5 // 2) #floor division(rounds down to the nearest whole number)"
   ]
  },
  {
   "attachments": {},
   "cell_type": "markdown",
   "metadata": {},
   "source": [
    "Concatination"
   ]
  },
  {
   "attachments": {},
   "cell_type": "markdown",
   "metadata": {},
   "source": [
    "Concatination allows you to add multiple strings, and/or other datatypes, together in one print function."
   ]
  },
  {
   "cell_type": "code",
   "execution_count": null,
   "metadata": {},
   "outputs": [],
   "source": [
    "print(\"Hello, \" + \"I am \" + \"Dan.\")\n",
    "\n",
    "#remember that you need to cast other datatypes to concatinate.\n",
    "#here's an example\n",
    "\n",
    "print(\"I'm \" + str(21) + \" years old.\")"
   ]
  },
  {
   "attachments": {},
   "cell_type": "markdown",
   "metadata": {},
   "source": [
    "Conditional Operators"
   ]
  },
  {
   "attachments": {},
   "cell_type": "markdown",
   "metadata": {},
   "source": [
    "conditional operators compare two or more elements and then returns a True or False value."
   ]
  },
  {
   "cell_type": "code",
   "execution_count": 15,
   "metadata": {},
   "outputs": [
    {
     "data": {
      "text/plain": [
       "True"
      ]
     },
     "execution_count": 15,
     "metadata": {},
     "output_type": "execute_result"
    }
   ],
   "source": [
    "a = 1\n",
    "b = 2\n",
    "\n",
    "a == b #False //equal to\n",
    "a != b #True //not equal to\n",
    "a > b #False //greater than\n",
    "a < b #True //less than\n",
    "\n",
    "#There are also boolean operators.\n",
    "\n",
    "condition1 = True\n",
    "condition2 = False\n",
    "\n",
    "not condition1 #returns False\n",
    "condition1 and condition2 #returns False\n",
    "condition1 or condition2 #returns True\n",
    "\n",
    "#For the boolean operators, you may need to study the truth tables in discrete mathematics.\n"
   ]
  }
 ],
 "metadata": {
  "kernelspec": {
   "display_name": "Python 3",
   "language": "python",
   "name": "python3"
  },
  "language_info": {
   "codemirror_mode": {
    "name": "ipython",
    "version": 3
   },
   "file_extension": ".py",
   "mimetype": "text/x-python",
   "name": "python",
   "nbconvert_exporter": "python",
   "pygments_lexer": "ipython3",
   "version": "3.11.2"
  },
  "orig_nbformat": 4,
  "vscode": {
   "interpreter": {
    "hash": "d0734580365e9e2d4d482446ecd95ab3f91430a3762eb89ec906a4725e8a22f7"
   }
  }
 },
 "nbformat": 4,
 "nbformat_minor": 2
}
