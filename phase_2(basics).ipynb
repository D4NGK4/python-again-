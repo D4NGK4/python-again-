{
 "cells": [
  {
   "attachments": {},
   "cell_type": "markdown",
   "metadata": {},
   "source": [
    "From freeCodeCamp.org"
   ]
  },
  {
   "cell_type": "code",
   "execution_count": null,
   "metadata": {},
   "outputs": [],
   "source": [
    "#making variables\n",
    "\n",
    "name = \"Dan\"\n",
    "age = 21\n",
    "address = \"Can't tell\""
   ]
  },
  {
   "cell_type": "code",
   "execution_count": null,
   "metadata": {},
   "outputs": [],
   "source": [
    "#printing variables\n",
    "\n",
    "print(name)\n",
    "print(str(age) + \" \" +address)\n",
    "\n",
    "#you can also use the f string \n",
    "print(f\"{age} {address}, same thing\")"
   ]
  },
  {
   "attachments": {},
   "cell_type": "markdown",
   "metadata": {},
   "source": [
    "Indentation is important in Python.\n",
    "\n",
    "You will indent a line of code by using [tab].\n",
    "\n",
    "person = \"Dan\"\n",
    "\n",
    "> person2 = \"Greg\"\n",
    "\n",
    "'person2' will give out an error if you run the following code.\n",
    "\n",
    "Everything indented belongs to a block. A block is usually a function."
   ]
  },
  {
   "cell_type": "code",
   "execution_count": null,
   "metadata": {},
   "outputs": [],
   "source": [
    "#Casting converts datatypes into other datatypes \n",
    "\n",
    "number = \"88\"\n",
    "print(int(number))\n",
    "number2 = 100\n",
    "print(str(number2))\n",
    "\n",
    "#the variable 'number' with the string 88 will be converted into a number in the print function,\n",
    "#and the variable 'number2' with the integer 100 will be converted into a string."
   ]
  },
  {
   "attachments": {},
   "cell_type": "markdown",
   "metadata": {},
   "source": [
    "Then we have operators. There are multiple types of operators but let's just focus on the arithmetic operators first."
   ]
  },
  {
   "cell_type": "code",
   "execution_count": 2,
   "metadata": {},
   "outputs": [
    {
     "name": "stdout",
     "output_type": "stream",
     "text": [
      "2\n",
      "-3\n",
      "9\n",
      "1.0\n",
      "2\n",
      "16\n",
      "2\n"
     ]
    }
   ],
   "source": [
    "print(1 + 1)#addition\n",
    "print(6 - 9)\n",
    "print(3 * 3)\n",
    "print(5 / 5)\n",
    "print(2 % 3) #prints the remainder\n",
    "print(4 ** 2)\n",
    "print(5 // 2)"
   ]
  }
 ],
 "metadata": {
  "kernelspec": {
   "display_name": "Python 3",
   "language": "python",
   "name": "python3"
  },
  "language_info": {
   "codemirror_mode": {
    "name": "ipython",
    "version": 3
   },
   "file_extension": ".py",
   "mimetype": "text/x-python",
   "name": "python",
   "nbconvert_exporter": "python",
   "pygments_lexer": "ipython3",
   "version": "3.11.2"
  },
  "orig_nbformat": 4,
  "vscode": {
   "interpreter": {
    "hash": "d0734580365e9e2d4d482446ecd95ab3f91430a3762eb89ec906a4725e8a22f7"
   }
  }
 },
 "nbformat": 4,
 "nbformat_minor": 2
}
